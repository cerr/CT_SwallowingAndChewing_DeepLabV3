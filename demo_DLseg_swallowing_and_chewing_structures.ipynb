{
  "nbformat": 4,
  "nbformat_minor": 0,
  "metadata": {
    "accelerator": "GPU",
    "colab": {
      "name": "demo_DLseg_swallowing_and_chewing_structures.ipynb",
      "provenance": [],
      "collapsed_sections": [],
      "toc_visible": true,
      "include_colab_link": true
    },
    "kernelspec": {
      "display_name": "Python 3",
      "name": "python3"
    },
    "language_info": {
      "name": "python"
  },
  "widgets": {
          "application/vnd.jupyter.widget-state+json": {
            "c4bb3835b8464310870458c63cc9a88b": {
              "model_module": "@jupyter-widgets/controls",
              "model_name": "IntSliderModel",
              "state": {
                "_view_name": "IntSliderView",
                "style": "IPY_MODEL_fa652e7cb49a4345a6d9d8dc9257e38e",
                "_dom_classes": [],
                "description": "",
                "step": 1,
                "_model_name": "IntSliderModel",
                "orientation": "horizontal",
                "max": 79,
                "_view_module": "@jupyter-widgets/controls",
                "_model_module_version": "1.5.0",
                "value": 43,
                "_view_count": null,
                "disabled": false,
                "_view_module_version": "1.5.0",
                "min": 1,
                "continuous_update": true,
                "readout_format": "d",
                "description_tooltip": null,
                "readout": true,
                "_model_module": "@jupyter-widgets/controls",
                "layout": "IPY_MODEL_e652f76ae09641b492f502085bf6491a"
              }
            },
            "fa652e7cb49a4345a6d9d8dc9257e38e": {
              "model_module": "@jupyter-widgets/controls",
              "model_name": "SliderStyleModel",
              "state": {
                "_view_name": "StyleView",
                "handle_color": null,
                "_model_name": "SliderStyleModel",
                "description_width": "",
                "_view_module": "@jupyter-widgets/base",
                "_model_module_version": "1.5.0",
                "_view_count": null,
                "_view_module_version": "1.2.0",
                "_model_module": "@jupyter-widgets/controls"
              }
            },
            "e652f76ae09641b492f502085bf6491a": {
              "model_module": "@jupyter-widgets/base",
              "model_name": "LayoutModel",
              "state": {
                "_view_name": "LayoutView",
                "grid_template_rows": null,
                "right": null,
                "justify_content": null,
                "_view_module": "@jupyter-widgets/base",
                "overflow": null,
                "_model_module_version": "1.2.0",
                "_view_count": null,
                "flex_flow": null,
                "width": null,
                "min_width": null,
                "border": null,
                "align_items": null,
                "bottom": null,
                "_model_module": "@jupyter-widgets/base",
                "top": null,
                "grid_column": null,
                "overflow_y": null,
                "overflow_x": null,
                "grid_auto_flow": null,
                "grid_area": null,
                "grid_template_columns": null,
                "flex": null,
                "_model_name": "LayoutModel",
                "justify_items": null,
                "grid_row": null,
                "max_height": null,
                "align_content": null,
                "visibility": null,
                "align_self": null,
                "height": null,
                "min_height": null,
                "padding": null,
                "grid_auto_rows": null,
                "grid_gap": null,
                "max_width": null,
                "order": null,
                "_view_module_version": "1.2.0",
                "grid_template_areas": null,
                "object_position": null,
                "object_fit": null,
                "grid_auto_columns": null,
                "margin": null,
                "display": null,
                "left": null
              }
            },
            "ab685a0a113b429fa0563cfb5692e491": {
              "model_module": "@jupyter-widgets/output",
              "model_name": "OutputModel",
              "state": {
                "_view_name": "OutputView",
                "msg_id": "",
                "_dom_classes": [],
                "_model_name": "OutputModel",
                "outputs": [
                  {
                    "output_type": "stream",
                    "metadata": {
                      "tags": []
                    },
                    "text": "Slice 43\n",
                    "stream": "stdout"
                  },
                  {
                    "output_type": "display_data",
                    "metadata": {
                      "tags": [],
                      "needs_background": "light"
                    },
                    "image/png": "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\n",
                    "text/plain": "<Figure size 432x288 with 1 Axes>"
                  }
                ],
                "_view_module": "@jupyter-widgets/output",
                "_model_module_version": "1.0.0",
                "_view_count": null,
                "_view_module_version": "1.0.0",
                "layout": "IPY_MODEL_568869c97f54442c986ac49052eac533",
                "_model_module": "@jupyter-widgets/output"
              }
            },
            "568869c97f54442c986ac49052eac533": {
              "model_module": "@jupyter-widgets/base",
              "model_name": "LayoutModel",
              "state": {
                "_view_name": "LayoutView",
                "grid_template_rows": null,
                "right": null,
                "justify_content": null,
                "_view_module": "@jupyter-widgets/base",
                "overflow": null,
                "_model_module_version": "1.2.0",
                "_view_count": null,
                "flex_flow": null,
                "width": null,
                "min_width": null,
                "border": null,
                "align_items": null,
                "bottom": null,
                "_model_module": "@jupyter-widgets/base",
                "top": null,
                "grid_column": null,
                "overflow_y": null,
                "overflow_x": null,
                "grid_auto_flow": null,
                "grid_area": null,
                "grid_template_columns": null,
                "flex": null,
                "_model_name": "LayoutModel",
                "justify_items": null,
                "grid_row": null,
                "max_height": null,
                "align_content": null,
                "visibility": null,
                "align_self": null,
                "height": null,
                "min_height": null,
                "padding": null,
                "grid_auto_rows": null,
                "grid_gap": null,
                "max_width": null,
                "order": null,
                "_view_module_version": "1.2.0",
                "grid_template_areas": null,
                "object_position": null,
                "object_fit": null,
                "grid_auto_columns": null,
                "margin": null,
                "display": null,
                "left": null
              }
            }
          }
        }
  },
  "cells": [
    {
      "cell_type": "markdown",
      "metadata": {
        "id": "yu88yJaKGk3m"
      },
      "source": [
        "#  Deep learning-based segmentation of Swallowing and Chewing structures in H&N CT scans\n",
        "\n",
        "This notebook demonstrates the application of a Convolution Neural Network model to segment swallowing and chewing structures in H&N CT scans. Model details are available in [bioRxiv article](https://www.biorxiv.org/content/10.1101/772178v2) by Iyer A *et al*.\n",
        "\n",
        "### Output structures:\n",
        "\n",
        "*   Masseters (left, right)\n",
        "*   Medial pterygoid (left, right)\n",
        "*   Larynx\n",
        "*   Pharyngeal constrictor muscle\n",
        "\n",
        "---\n"
      ]
    },
    {
      "cell_type": "markdown",
      "metadata": {
        "id": "aHsv1Npn-kit"
      },
      "source": [
        "## Install Octave 6.2 and required packages"
      ]
    },
    {
      "cell_type": "code",
      "metadata": {
        "id": "VFcgh7oO8Er6"
      },
      "source": [
        "%%capture\n",
        "! apt-get update\n",
        "! apt-get install gcc g++ gfortran make libblas-dev liblapack-dev libpcre3-dev libarpack2-dev libcurl4-gnutls-dev epstool libfftw3-dev transfig libfltk1.3-dev libfontconfig1-dev libfreetype6-dev libgl2ps-dev libglpk-dev libreadline-dev gnuplot-x11 libgraphicsmagick++1-dev libhdf5-serial-dev openjdk-8-jdk libsndfile1-dev llvm-dev lpr texinfo libgl1-mesa-dev libosmesa6-dev pstoedit portaudio19-dev libqhull-dev libqrupdate-dev libqscintilla2-dev libsuitesparse-dev texlive texlive-generic-recommended libxft-dev zlib1g-dev autoconf automake bison flex gperf gzip icoutils librsvg2-bin libtool perl rsync tar qtbase5-dev qttools5-dev qttools5-dev-tools libqscintilla2-qt5-dev wget git libsundials-dev gnuplot x11-apps"
      ],
      "execution_count": null,
      "outputs": []
    },
    {
      "cell_type": "code",
      "metadata": {
        "id": "II7dNAx11Qwa"
      },
      "source": [
        "%%capture\n",
        "%%bash\n",
        "LOCATION=$(curl -s https://api.github.com/repos/cerr/octave-colab/releases \\\n",
        "| grep \"browser_download_url\"| head -n 1 \\\n",
        "| awk '{ print $2 }'| tr -d '\"') \\\n",
        "; curl -L -o octavecolab.tar.gz $LOCATION\n",
        "\n",
        "tar -xzvf \"octavecolab.tar.gz\""
      ],
      "execution_count": null,
      "outputs": []
    },
    {
      "cell_type": "code",
      "metadata": {
        "id": "_rRH9-ja8PHW"
      },
      "source": [
        "import os\n",
        "\n",
        "flist = os.listdir('/content/') \n",
        "for f in flist:\n",
        "        if os.path.isdir(f) and 'octave' in f:\n",
        "            extractDir = f\n",
        "\n",
        "os.environ['OCTAVE_EXECUTABLE'] = '/content/' + extractDir + '/bin/octave-cli'\n",
        "os.environ['PATH'] = '/content/' + extractDir +'/bin:' + os.environ['PATH']"
      ],
      "execution_count": null,
      "outputs": []
    },
    {
      "cell_type": "code",
      "metadata": {
        "id": "XxJOqpOZ8TF1"
      },
      "source": [
        "%%capture\n",
        "! pip3 install octave_kernel\n",
        "! pip3 install oct2py\n",
        "\n",
        "%load_ext oct2py.ipython\n",
        "\n",
        "!wget https://nchc.dl.sourceforge.net/project/octave/Octave%20Forge%20Packages/Individual%20Package%20Releases/image-2.12.0.tar.gz\n",
        "!wget https://nchc.dl.sourceforge.net/project/octave/Octave%20Forge%20Packages/Individual%20Package%20Releases/io-2.6.1.tar.gz\n",
        "!wget https://nchc.dl.sourceforge.net/project/octave/Octave%20Forge%20Packages/Individual%20Package%20Releases/statistics-1.4.2.tar.gz\n",
        "\n",
        "!octave --eval \"pkg install image-2.12.0.tar.gz\"\n",
        "!octave --eval \"pkg install io-2.6.1.tar.gz\"\n",
        "!octave --eval \"pkg install statistics-1.4.2.tar.gz\""
      ],
      "execution_count": null,
      "outputs": []
    },
    {
      "cell_type": "markdown",
      "metadata": {
        "id": "G_N4Prl__MbP"
      },
      "source": [
        "## Download pretrained models"
      ]
    },
    {
      "cell_type": "code",
      "metadata": {
        "id": "RQAA6zsn8KqU"
      },
      "source": [
        "%%capture\n",
        "%%bash\n",
        "LOCATION=$(curl -s https://api.github.com/repos/cerr/CT_SwallowingAndChewing_DeepLabV3/releases \\\n",
        "| grep \"zipball_url\" | grep \"linux\"  \\\n",
        "| awk '{ print $2 }'| tr -d '\",') \\\n",
        "; curl -L -o swallowChewSeg.zip $LOCATION\n",
        "\n",
        "unzip swallowChewSeg.zip -d pretrained"
      ],
      "execution_count": null,
      "outputs": []
    },
    {
      "cell_type": "markdown",
      "metadata": {
        "id": "Mgfywy9v_kvR"
      },
      "source": [
        "## Download CERRx"
      ]
    },
    {
      "cell_type": "code",
      "metadata": {
        "id": "4R53ijVe_rOV"
      },
      "source": [
        "%%capture\n",
        "!git clone --single-branch --branch octave_dev https://www.github.com/cerr/CERR.git"
      ],
      "execution_count": null,
      "outputs": []
    },
    {
      "cell_type": "markdown",
      "metadata": {
        "id": "6KC8NMZdE4A6"
      },
      "source": [
        "## Apply segmentation models to sample data"
      ]
    },
    {
      "cell_type": "code",
      "metadata": {
        "id": "uATelfGNDEkI"
      },
      "source": [
        "%%capture\n",
        "from oct2py import octave\n",
        "\n",
        "octave.eval('pkg load image')\n",
        "octave.eval('pkg load io')\n",
        "octave.eval('pkg load statistics')\n",
        "octave.addpath(octave.genpath('/content/CERR'))"
      ],
      "execution_count": null,
      "outputs": []
    },
    {
      "cell_type": "code",
      "metadata": {
        "id": "pD9QPBhsE1eM"
      },
      "source": [
        "sampleData = '/content/CERR/Unit_Testing/data_for_cerr_tests/' + \\\n",
        "              'CERR_plans/head_neck_ex1_20may03.mat.bz2'\n",
        "\n",
        "%octave_push sampleData\n",
        "planC = octave.loadPlanC(sampleData, octave.tempdir())\n",
        "planC = octave.updatePlanFields(planC)\n",
        "planC = octave.quality_assure_planC(sampleData, planC)\n",
        "\n",
        "algorithm = 'CT_ChewingStructures_DeepLabV3^CT_Larynx_DeepLabV3^' + \\\n",
        "            'CT_PharyngealConstrictor_DeepLabV3';\n",
        "sessionPath = '/content/temp/'\n",
        "condaEnvName = '/content/pretrained/cerr-CT_SwallowingAndChewing_DeepLabV3-a11afe0/'\n",
        "\n",
        "planC = octave.runSegForPlanCInCondaEnv(planC,sessionPath,algorithm, \\\n",
        "                                        condaEnvName)"
      ],
      "execution_count": null,
      "outputs": []
    },
    {
      "cell_type": "code",
      "metadata": {
        "id": "BK0yAvbQQNBR"
      },
      "source": [
        "from oct2py import octave\n",
        "%octave_push planC"
      ],
      "execution_count": null,
      "outputs": []
    },
    {
      "cell_type": "code",
      "metadata": {
        "id": "GVml6zI9QRgb"
      },
      "source": [
        "%%octave\n",
        "\n",
        "addpath(genpath('/content/CERR'))\n",
        "\n",
        "%Get scan array\n",
        "indexS = planC{end};\n",
        "scanNum = 1;\n",
        "ctOffset = planC{indexS.scan}(scanNum).scanInfo(1).CTOffset;\n",
        "scanArray = single(getScanArray(scanNum,planC)) - ctOffset;\n",
        "\n",
        "%Get structure labels & masks\n",
        "numStructs = length(planC{indexS.structures});\n",
        "structNameC = {planC{indexS.structures}.structureName};\n",
        "strNameC = {'Left_masseter', 'Right_masseter', 'Left_medial_pterygoid',...\n",
        "              'Right_medial_pterygoid', 'Larynx_DLabV3', 'Constrictor_muscle'};\n",
        "for strNum = 1:length(strNameC)\n",
        "    strx = strNameC{strNum};\n",
        "    idx = getMatchingIndex(strx,structNameC,'EXACT');\n",
        "    mask3M = getStrMask(idx, planC);\n",
        "    maskC{strNum} = mask3M;\n",
        "end"
      ],
      "execution_count": null,
      "outputs": []
    },
    {
      "cell_type": "code",
      "metadata": {
        "id": "9_mlA0D8QYFf"
      },
      "source": [
        "%octave_pull maskC strNameC scanArray"
      ],
      "execution_count": null,
      "outputs": []
    },
    {
      "cell_type": "code",
      "metadata": {
        "id": "Ajqv7egbQaLu"
      },
      "source": [
        "import matplotlib.pyplot as plt\n",
        "import numpy as np\n",
        "from IPython.display import clear_output\n",
        "import ipywidgets as widgets\n",
        "\n",
        "dx, dy = 1, 1\n",
        "\n",
        "x = np.arange(0, 255, dx)\n",
        "y = np.arange(0, 255, dy)\n",
        "extent = np.min(x), np.max(x), np.min(y), np.max(y)\n",
        "\n",
        "clear_output(wait=True)\n",
        "\n",
        "def window_image(image, window_center, window_width):\n",
        "    img_min = window_center - window_width // 2\n",
        "    img_max = window_center + window_width // 2\n",
        "    window_image = image.copy()\n",
        "    window_image[window_image < img_min] = img_min\n",
        "    window_image[window_image > img_max] = img_max\n",
        "    \n",
        "    return window_image\n",
        "\n",
        "def show_axial_slice(slcNum):\n",
        "    clear_output(wait=True)\n",
        "    print('Slice '+str(slcNum))\n",
        "    if 'fig' in locals():\n",
        "        fig.remove()\n",
        "    fig, ax = plt.subplots()\n",
        "    window_center = 45\n",
        "    window_width = 125\n",
        "    windowed_img = window_image(scanArray[:,:,slcNum-1],\n",
        "                                window_center,window_width)\n",
        "    im1 = ax.imshow(windowed_img, cmap=plt.cm.gray, alpha=1,\n",
        "                    interpolation='nearest', extent=extent)\n",
        "    \n",
        "    cmaps = [plt.cm.Oranges,plt.cm.Oranges,plt.cm.Blues,plt.cm.Blues, \\\n",
        "             plt.cm.Purples,plt.cm.Greens]\n",
        "\n",
        "    for maskNum in range(0,6,1):\n",
        "        mask_cmap = cmaps[maskNum]\n",
        "        mask_cmap.set_under('k', alpha=0)\n",
        "        im2 = ax.imshow(maskC[0,maskNum][:,:,slcNum-1], \n",
        "                        cmap=mask_cmap, alpha=.8, extent=extent,\n",
        "                        interpolation='none', clim=[0.5, 1])        \n",
        "    plt.show()\n",
        "\n",
        "slice_slider = widgets.IntSlider(min=1,max=79,step=1)\n",
        "outputSlc = widgets.Output()\n",
        "\n",
        "display(slice_slider, outputSlc)\n",
        "\n",
        "def update_slice(change):\n",
        "    with outputSlc:\n",
        "        show_axial_slice(change['new'])\n",
        "\n",
        "slice_slider.observe(update_slice, names='value')\n"
      ],
      "execution_count": null,
      "outputs": []
    }
  ]
}
