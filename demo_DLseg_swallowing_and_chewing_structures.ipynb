{
  "nbformat": 4,
  "nbformat_minor": 0,
  "metadata": {
    "accelerator": "GPU",
    "colab": {
      "name": "demo_DLseg_swallowing_and_chewing_structures.ipynb",
      "provenance": [],
      "collapsed_sections": [],
      "toc_visible": true,
      "include_colab_link": true
    },
    "kernelspec": {
      "display_name": "Python 3",
      "name": "python3"
    },
    "language_info": {
      "name": "python"
    }
  },
  "cells": [
   {
              "cell_type": "markdown",
              "metadata": {
                "id": "view-in-github",
                "colab_type": "text"
              },
              "source": [
                "<a href=\"https://colab.research.google.com/github/cerr/CERR/blob/octave_dev/Jupyter_Notebooks/demo_DLseg_swallowing_and_chewing_structures.ipynb\" target=\"_parent\"><img src=\"https://colab.research.google.com/assets/colab-badge.svg\" alt=\"Open In Colab\"/></a>"
            ]
    },
    {
      "cell_type": "markdown",
      "metadata": {
        "id": "yu88yJaKGk3m"
      },
      "source": [
        "#  Deep learning-based segmentation of Swallowing and Chewing structures in H&N CT scans\n",
        "\n",
        "This notebook demonstrates the application of a Convolution Neural Network model to segment the following swallowing and chewing structures in H&N CT scans. \n",
        "\n",
        "### Output structures:\n",
        "\n",
        "*   Masseters (left, right)\n",
        "*   Medial pterygoid (left, right)\n",
        "*   Larynx_DLabV3\n",
        "*   Constrictor muscle  \n",
        "\n",
        "### Reference\n",
        "Model details are available in Iyer, A, et al. \"Prospectively-validated deep learning model for segmenting swallowing and chewing structures in CT\" in *Physics in Medicine & Biology* (2021). DOI:[10.1088/1361-6560/ac4000](https://doi.org/10.1088/1361-6560/ac4000).\n",
        "\n",
        "---\n"
      ]
    },
    {
      "cell_type": "markdown",
      "metadata": {
        "id": "aHsv1Npn-kit"
      },
      "source": [
        "## Install latest Octave compile\n",
        "\n"
      ]
    },
    {
      "cell_type": "code",
      "metadata": {
        "id": "VFcgh7oO8Er6"
      },
      "source": [
        "%%capture\n",
        "! apt-get update\n",
        "! apt-get install gcc g++ gfortran make libblas-dev liblapack-dev libpcre3-dev \\\n",
        "libarpack2-dev libcurl4-gnutls-dev epstool libfftw3-dev transfig libfltk1.3-dev \\\n",
        "libfontconfig1-dev libfreetype6-dev libgl2ps-dev libglpk-dev libreadline-dev \\\n",
        "gnuplot-x11 libgraphicsmagick++1-dev libhdf5-serial-dev openjdk-8-jdk \\\n",
        "libsndfile1-dev llvm-dev lpr texinfo libgl1-mesa-dev libosmesa6-dev pstoedit \\\n",
        "portaudio19-dev libqhull-dev libqrupdate-dev libqscintilla2-dev \\\n",
        "libsuitesparse-dev texlive texlive-generic-recommended libxft-dev zlib1g-dev \\\n",
        "autoconf automake bison flex gperf gzip icoutils librsvg2-bin libtool perl \\\n",
        "rsync tar qtbase5-dev qttools5-dev qttools5-dev-tools libqscintilla2-qt5-dev \\\n",
        "wget git libsundials-dev gnuplot x11-apps"
      ],
      "execution_count": null,
      "outputs": []
    },
    {
      "cell_type": "code",
      "source": [
        "import os, urllib.request, json"
      ],
      "metadata": {
        "id": "SqBZHX0SR0JE"
      },
      "execution_count": null,
      "outputs": []
    },
    {
      "cell_type": "code",
      "source": [
        "# Download latest compiled octave package \n",
        "def get_octave(root_path):\n",
        "  os.chdir(root_path)\n",
        "  with urllib.request.urlopen(\"https://api.github.com/repos/cerr/octave-colab/releases/latest\") as url:\n",
        "      data = json.loads(url.read().decode())\n",
        "  fname = data['assets'][0]['name']\n",
        "  requrl = data['assets'][0]['browser_download_url']\n",
        "  urllib.request.urlretrieve(requrl, fname)\n",
        "  # Unzip, identify octave folder name\n",
        "  !tar xf {fname}\n",
        "  top_folder = !tar tf {fname} | head -1\n",
        "  octave_folder = top_folder[0][:-1]\n",
        "  octave_path = os.path.join(root_path,octave_folder)\n",
        "  return octave_path\n",
        "\n",
        "# Set path to Octave exectuable\n",
        "octave_path = get_octave('/content')\n",
        "os.environ['OCTAVE_EXECUTABLE'] = octave_path + '/bin/octave-cli'\n",
        "os.environ['PATH'] = octave_path + '/bin:' + os.environ['PATH']"
      ],
      "metadata": {
        "id": "-eLtWtgZRonx"
      },
      "execution_count": null,
      "outputs": []
    },
    {
      "cell_type": "markdown",
      "source": [
        "## Install Python-Octave bridge"
      ],
      "metadata": {
        "id": "B6QfdhCTVW2-"
      }
    },
    {
      "cell_type": "code",
      "source": [
        "%%capture\n",
        "! pip3 install octave_kernel\n",
        "! pip3 install oct2py==5.3.0\n",
        "\n",
        "%load_ext oct2py.ipython"
      ],
      "metadata": {
        "id": "eek7w41_VI8x"
      },
      "execution_count": null,
      "outputs": []
    },
    {
      "cell_type": "markdown",
      "source": [
        "## Download CERRx"
      ],
      "metadata": {
        "id": "hCxab5j9Y3hv"
      }
    },
    {
      "cell_type": "code",
      "source": [
        "%%capture\n",
        "!git clone --single-branch --branch octave_dev https://www.github.com/cerr/CERR.git\n",
        "import os\n",
        "currDir = os.getcwd()\n",
        "os.chdir(\"/content/CERR\")\n",
        "!git checkout 2847d7df4a889c2ebd9c93a9d25bf46fd2ee75be\n",
        "os.chdir(currDir)"
      ],
      "metadata": {
        "id": "1ldWZbWfY8U-"
      },
      "execution_count": null,
      "outputs": []
    },
    {
      "cell_type": "markdown",
      "metadata": {
        "id": "G_N4Prl__MbP"
      },
      "source": [
        "## Download pretrained models"
      ]
    },
    {
      "cell_type": "code",
      "metadata": {
        "id": "RQAA6zsn8KqU"
      },
      "source": [
        "%%capture\n",
        "%%bash\n",
        "LOCATION=$(curl -s https://api.github.com/repos/aditiiyer/CT_SwallowingAndChewing_DeepLabV3/tags \\\n",
        "| grep \"name\"| grep \"linux\" \\\n",
        "| awk '{print \"https://github.com/aditiiyer/CT_SwallowingAndChewing_DeepLabV3/archive/\" substr($2, 2, length($2)-3) \".zip\"}') \\\n",
        "; curl -L -o swallowChewSeg.zip $LOCATION\n",
        "\n",
        "unzip swallowChewSeg.zip -d pretrained"
      ],
      "execution_count": null,
      "outputs": []
    },
    {
      "cell_type": "markdown",
      "metadata": {
        "id": "6KC8NMZdE4A6"
      },
      "source": [
        "## Apply segmentation models to sample data"
      ]
    },
    {
      "cell_type": "code",
      "metadata": {
        "id": "uATelfGNDEkI"
      },
      "source": [
        "%%capture\n",
        "from oct2py import octave\n",
        "\n",
        "octave.eval('pkg load image')\n",
        "octave.eval('pkg load io')\n",
        "octave.eval('pkg load statistics')\n",
        "octave.addpath(octave.genpath('/content/CERR'))"
      ],
      "execution_count": null,
      "outputs": []
    },
    {
      "cell_type": "code",
      "metadata": {
        "id": "pD9QPBhsE1eM"
      },
      "source": [
        "sampleData = '/content/CERR/Unit_Testing/data_for_cerr_tests/' + \\\n",
        "              'CERR_plans/head_neck_ex1_20may03.mat.bz2'\n",
        "\n",
        "%octave_push sampleData\n",
        "planC = octave.loadPlanC(sampleData, octave.tempdir())\n",
        "planC = octave.updatePlanFields(planC)\n",
        "planC = octave.quality_assure_planC(sampleData, planC)\n",
        "\n",
        "algorithm = 'CT_ChewingStructures_DeepLabV3^CT_Larynx_DeepLabV3^' + \\\n",
        "            'CT_PharyngealConstrictor_DeepLabV3';\n",
        "sessionPath = '/content/temp/'\n",
        "condaEnvName = '/content/pretrained/CT_SwallowingAndChewing_DeepLabV3-1.0-linux/'\n",
        "planC = octave.runSegForPlanCInCondaEnv(planC,sessionPath,algorithm, \\\n",
        "                                        condaEnvName)"
      ],
      "execution_count": null,
      "outputs": []
    },
    {
      "cell_type": "markdown",
      "source": [
        "## Display auto-segmentation result"
      ],
      "metadata": {
        "id": "qHcDwHTHZXDa"
      }
    },
    {
      "cell_type": "markdown",
      "source": [
        "**Get segmentation mask**"
      ],
      "metadata": {
        "id": "HJy4HLmBZOjQ"
      }
    },
    {
      "cell_type": "code",
      "metadata": {
        "id": "BK0yAvbQQNBR"
      },
      "source": [
        "from oct2py import octave\n",
        "%octave_push planC"
      ],
      "execution_count": null,
      "outputs": []
    },
    {
      "cell_type": "code",
      "metadata": {
        "id": "GVml6zI9QRgb"
      },
      "source": [
        "%%octave\n",
        "\n",
        "addpath(genpath('/content/CERR'))\n",
        "\n",
        "%Get scan array\n",
        "indexS = planC{end};\n",
        "scanNum = 1;\n",
        "ctOffset = planC{indexS.scan}(scanNum).scanInfo(1).CTOffset;\n",
        "scanArray = single(getScanArray(scanNum,planC)) - ctOffset;\n",
        "\n",
        "%Get structure labels & masks\n",
        "numStructs = length(planC{indexS.structures});\n",
        "structNameC = {planC{indexS.structures}.structureName};\n",
        "strNameC = {'Left_masseter', 'Right_masseter', 'Left_medial_pterygoid',...\n",
        "              'Right_medial_pterygoid', 'Larynx_DLabV3', 'Constrictor_muscle'};\n",
        "for strNum = 1:length(strNameC)\n",
        "    strx = strNameC{strNum};\n",
        "    idx = getMatchingIndex(strx,structNameC,'EXACT');\n",
        "    mask3M = getStrMask(idx, planC);\n",
        "    maskC{strNum} = mask3M;\n",
        "end"
      ],
      "execution_count": null,
      "outputs": []
        },
    {
      "cell_type": "markdown",
      "source": [
        "**Interactive display**"
      ],
      "metadata": {
        "id": "WAytdRNXZiMu"
      }
    },
    {
      "cell_type": "code",
      "metadata": {
        "id": "9_mlA0D8QYFf"
      },
      "source": [
        "%octave_pull maskC strNameC scanArray"
      ],
      "execution_count": null,
      "outputs": []
    },
    {
      "cell_type": "code",
      "metadata": {
        "id": "Ajqv7egbQaLu"
      },
      "source": [
        "import matplotlib.pyplot as plt\n",
        "import numpy as np\n",
        "from IPython.display import clear_output\n",
        "import ipywidgets as widgets\n",
        "\n",
        "dx, dy = 1, 1\n",
        "\n",
        "x = np.arange(0, 255, dx)\n",
        "y = np.arange(0, 255, dy)\n",
        "extent = np.min(x), np.max(x), np.min(y), np.max(y)\n",
        "\n",
        "clear_output(wait=True)\n",
        "\n",
        "def window_image(image, window_center, window_width):\n",
        "    img_min = window_center - window_width // 2\n",
        "    img_max = window_center + window_width // 2\n",
        "    window_image = image.copy()\n",
        "    window_image[window_image < img_min] = img_min\n",
        "    window_image[window_image > img_max] = img_max\n",
        "    \n",
        "    return window_image\n",
        "\n",
        "def show_axial_slice(slcNum):\n",
        "    clear_output(wait=True)\n",
        "    print('Slice '+str(slcNum))\n",
        "    if 'fig' in locals():\n",
        "        fig.remove()\n",
        "    fig, ax = plt.subplots()\n",
        "    window_center = 45\n",
        "    window_width = 125\n",
        "    windowed_img = window_image(scanArray[:,:,slcNum-1],\n",
        "                                window_center,window_width)\n",
        "    im1 = ax.imshow(windowed_img, cmap=plt.cm.gray, alpha=1,\n",
        "                    interpolation='nearest', extent=extent)\n",
        "    \n",
        "    cmaps = [plt.cm.Oranges,plt.cm.Oranges,plt.cm.Blues,plt.cm.Blues, \\\n",
        "             plt.cm.Purples,plt.cm.Greens]\n",
        "\n",
        "    for maskNum in range(0,6,1):\n",
        "        mask_cmap = cmaps[maskNum]\n",
        "        mask_cmap.set_under('k', alpha=0)\n",
        "        im2 = ax.imshow(maskC[0,maskNum][:,:,slcNum-1], \n",
        "                        cmap=mask_cmap, alpha=.8, extent=extent,\n",
        "                        interpolation='none', clim=[0.5, 1])        \n",
        "    plt.show()\n",
        "\n",
        "slice_slider = widgets.IntSlider(value=30,min=1,max=79,step=1)\n",
        "outputSlc = widgets.Output()\n",
        "\n",
        "display(slice_slider, outputSlc)\n",
        "\n",
        "def update_slice(change):\n",
        "    with outputSlc:\n",
        "        show_axial_slice(change['new'])\n",
        "\n",
        "slice_slider.observe(update_slice, names='value')\n"
      ],
      "execution_count": null,
      "outputs": []
    }
  ]
}
