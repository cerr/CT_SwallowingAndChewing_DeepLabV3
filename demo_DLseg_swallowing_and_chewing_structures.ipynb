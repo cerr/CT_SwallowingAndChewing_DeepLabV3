{
  "nbformat": 4,
  "nbformat_minor": 0,
  "metadata": {
    "accelerator": "GPU",
    "colab": {
      "name": "demo_DLseg_swallowing_and_chewing_structures.ipynb",
      "provenance": [],
      "collapsed_sections": [],
      "toc_visible": true,
      "include_colab_link": true
    },
    "kernelspec": {
      "display_name": "Python 3",
      "name": "python3"
    },
    "language_info": {
      "name": "python"
    },
    "widgets": {
      "application/vnd.jupyter.widget-state+json": {
        "26c569b416c041eca3e94edcd1ffcaf9": {
          "model_module": "@jupyter-widgets/controls",
          "model_name": "IntSliderModel",
          "model_module_version": "1.5.0",
          "state": {
            "_dom_classes": [],
            "_model_module": "@jupyter-widgets/controls",
            "_model_module_version": "1.5.0",
            "_model_name": "IntSliderModel",
            "_view_count": null,
            "_view_module": "@jupyter-widgets/controls",
            "_view_module_version": "1.5.0",
            "_view_name": "IntSliderView",
            "continuous_update": true,
            "description": "",
            "description_tooltip": null,
            "disabled": false,
            "layout": "IPY_MODEL_2f006b5cc2b94a19a74e5e4288dec4b7",
            "max": 79,
            "min": 1,
            "orientation": "horizontal",
            "readout": true,
            "readout_format": "d",
            "step": 1,
            "style": "IPY_MODEL_764ec96250694cb99393da0926bf47c3",
            "value": 42
          }
        },
        "2f006b5cc2b94a19a74e5e4288dec4b7": {
          "model_module": "@jupyter-widgets/base",
          "model_name": "LayoutModel",
          "model_module_version": "1.2.0",
          "state": {
            "_model_module": "@jupyter-widgets/base",
            "_model_module_version": "1.2.0",
            "_model_name": "LayoutModel",
            "_view_count": null,
            "_view_module": "@jupyter-widgets/base",
            "_view_module_version": "1.2.0",
            "_view_name": "LayoutView",
            "align_content": null,
            "align_items": null,
            "align_self": null,
            "border": null,
            "bottom": null,
            "display": null,
            "flex": null,
            "flex_flow": null,
            "grid_area": null,
            "grid_auto_columns": null,
            "grid_auto_flow": null,
            "grid_auto_rows": null,
            "grid_column": null,
            "grid_gap": null,
            "grid_row": null,
            "grid_template_areas": null,
            "grid_template_columns": null,
            "grid_template_rows": null,
            "height": null,
            "justify_content": null,
            "justify_items": null,
            "left": null,
            "margin": null,
            "max_height": null,
            "max_width": null,
            "min_height": null,
            "min_width": null,
            "object_fit": null,
            "object_position": null,
            "order": null,
            "overflow": null,
            "overflow_x": null,
            "overflow_y": null,
            "padding": null,
            "right": null,
            "top": null,
            "visibility": null,
            "width": null
          }
        },
        "764ec96250694cb99393da0926bf47c3": {
          "model_module": "@jupyter-widgets/controls",
          "model_name": "SliderStyleModel",
          "model_module_version": "1.5.0",
          "state": {
            "_model_module": "@jupyter-widgets/controls",
            "_model_module_version": "1.5.0",
            "_model_name": "SliderStyleModel",
            "_view_count": null,
            "_view_module": "@jupyter-widgets/base",
            "_view_module_version": "1.2.0",
            "_view_name": "StyleView",
            "description_width": "",
            "handle_color": null
          }
        },
        "3a10a253ddb3492aa609c5a40e475b94": {
          "model_module": "@jupyter-widgets/output",
          "model_name": "OutputModel",
          "model_module_version": "1.0.0",
          "state": {
            "_dom_classes": [],
            "_model_module": "@jupyter-widgets/output",
            "_model_module_version": "1.0.0",
            "_model_name": "OutputModel",
            "_view_count": null,
            "_view_module": "@jupyter-widgets/output",
            "_view_module_version": "1.0.0",
            "_view_name": "OutputView",
            "layout": "IPY_MODEL_0ced2b2f8906490ea9f252db7d40e530",
            "msg_id": "",
            "outputs": [
              {
                "output_type": "stream",
                "name": "stdout",
                "text": [
                  "Slice 42\n"
                ]
              },
              {
                "output_type": "display_data",
                "data": {
                  "text/plain": "<Figure size 720x720 with 1 Axes>",
                  "image/png": "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\n"
                },
                "metadata": {
                  "needs_background": "light"
                }
              }
            ]
          }
        },
        "0ced2b2f8906490ea9f252db7d40e530": {
          "model_module": "@jupyter-widgets/base",
          "model_name": "LayoutModel",
          "model_module_version": "1.2.0",
          "state": {
            "_model_module": "@jupyter-widgets/base",
            "_model_module_version": "1.2.0",
            "_model_name": "LayoutModel",
            "_view_count": null,
            "_view_module": "@jupyter-widgets/base",
            "_view_module_version": "1.2.0",
            "_view_name": "LayoutView",
            "align_content": null,
            "align_items": null,
            "align_self": null,
            "border": null,
            "bottom": null,
            "display": null,
            "flex": null,
            "flex_flow": null,
            "grid_area": null,
            "grid_auto_columns": null,
            "grid_auto_flow": null,
            "grid_auto_rows": null,
            "grid_column": null,
            "grid_gap": null,
            "grid_row": null,
            "grid_template_areas": null,
            "grid_template_columns": null,
            "grid_template_rows": null,
            "height": null,
            "justify_content": null,
            "justify_items": null,
            "left": null,
            "margin": null,
            "max_height": null,
            "max_width": null,
            "min_height": null,
            "min_width": null,
            "object_fit": null,
            "object_position": null,
            "order": null,
            "overflow": null,
            "overflow_x": null,
            "overflow_y": null,
            "padding": null,
            "right": null,
            "top": null,
            "visibility": null,
            "width": null
          }
        }
      }
    }
  },
  "cells": [
       {
              "cell_type": "markdown",
              "metadata": {
                "id": "view-in-github",
                "colab_type": "text"
              },
              "source": [
                "<a href=\"https://colab.research.google.com/github/cerr/CT_SwallowingAndChewing_DeepLabV3/blob/master/demo_DLseg_swallowing_and_chewing_structures.ipynb\" target=\"_parent\"><img src=\"https://colab.research.google.com/assets/colab-badge.svg\" alt=\"Open In Colab\"/></a>"
              ]
    },
   {
      "cell_type": "markdown",
      "metadata": {
        "id": "yu88yJaKGk3m"
      },
      "source": [
        "#  Deep learning-based segmentation of Swallowing and Chewing structures in H&N CT scans\n",
        "\n",
        "\n"
      ]
    },
    {
      "cell_type": "markdown",
      "source": [
        "## Introduction\n",
        "This notebook demonstrates the application of a Convolution Neural Network model to segment the following swallowing and chewing structures in H&N CT scans. \n",
        "\n",
        "*   Masseters (left, right)\n",
        "*   Medial pterygoid (left, right)\n",
        "*   Larynx_DLabV3\n",
        "*   Constrictor muscle  \n",
        "\n",
        "#### *Reference*\n",
        "Model details are available in Iyer, A, et al. \"Prospectively-validated deep learning model for segmenting swallowing and chewing structures in CT\" in *Physics in Medicine & Biology* (2021). DOI:[10.1088/1361-6560/ac4000](https://doi.org/10.1088/1361-6560/ac4000).\n",
        "\n",
        "---"
      ],
      "metadata": {
        "id": "IZXYg6ttMYEv"
      }
    },
    {
      "cell_type": "markdown",
      "source": [
        "## Requirements\n",
        "* GNU Octave with *image*, *statistics*, and *io* packages\n",
        "* Oct2Py\n",
        "* [CERR](https://github.com/cerr/CERR)\n",
        "* [Pre-trained segmentation models](https://github.com/cerr/CT_SwallowingAndChewing_DeepLabV3/releases)\n",
        "* Python with *matplotlib*, \"*numpy*, *ipywidgets* packages\n",
        "\n",
        "import matplotlib.pyplot as plt\n",
        "import numpy as np\n",
        "from IPython.display import clear_output\n",
        "import ipywidgets as widgets\n",
        "\n",
        "*Note*: Installing these tools may incur a one-time extra runtime overhead."
      ],
      "metadata": {
        "id": "cKD0MQgFMgiJ"
      }
    },
    {
      "cell_type": "markdown",
      "source": [
        "##I/O\n",
        "\n",
        "In this example, we use sample images in CERR's native planC format (imported from DICOM) to delineate the swallowing and chewing structures. Segmentation masks are output to Octave matrix and numpy formats."
      ],
      "metadata": {
        "id": "PKtudRTeNeCy"
      }
    },
    {
      "cell_type": "markdown",
      "source": [
        "## Results\n",
        "\n",
        "This notebook comes with a static visualization of a sample filter output. A second interactive display section is additionally made available on running the notebook."
      ],
      "metadata": {
        "id": "i98mMNXGWnGg"
      }
    },
    {
      "cell_type": "markdown",
      "metadata": {
        "id": "aHsv1Npn-kit"
      },
      "source": [
        "## Install latest Octave compile\n",
        "\n"
      ]
    },
    {
      "cell_type": "code",
      "metadata": {
        "id": "VFcgh7oO8Er6"
      },
      "source": [
        "%%capture\n",
        "! apt-get update\n",
        "! apt-get install gcc g++ gfortran make libblas-dev liblapack-dev libpcre3-dev \\\n",
        "libarpack2-dev libcurl4-gnutls-dev epstool libfftw3-dev transfig libfltk1.3-dev \\\n",
        "libfontconfig1-dev libfreetype6-dev libgl2ps-dev libglpk-dev libreadline-dev \\\n",
        "gnuplot-x11 libgraphicsmagick++1-dev libhdf5-serial-dev openjdk-8-jdk \\\n",
        "libsndfile1-dev llvm-dev lpr texinfo libgl1-mesa-dev libosmesa6-dev pstoedit \\\n",
        "portaudio19-dev libqhull-dev libqrupdate-dev libqscintilla2-dev \\\n",
        "libsuitesparse-dev texlive texlive-generic-recommended libxft-dev zlib1g-dev \\\n",
        "autoconf automake bison flex gperf gzip icoutils librsvg2-bin libtool perl \\\n",
        "rsync tar qtbase5-dev qttools5-dev qttools5-dev-tools libqscintilla2-qt5-dev \\\n",
        "wget git libsundials-dev gnuplot x11-apps"
      ],
      "execution_count": 1,
      "outputs": []
    },
    {
      "cell_type": "code",
      "source": [
        "import os, urllib.request, json"
      ],
      "metadata": {
        "id": "SqBZHX0SR0JE"
      },
      "execution_count": 2,
      "outputs": []
    },
    {
          "cell_type": "code",
          "source": [
            "# Download latest compiled octave package \n",
            "def get_octave(root_path):\n",
            "  os.chdir(root_path)\n",
            "  with urllib.request.urlopen(\"https://api.github.com/repos/cerr/octave-colab/releases/latest\") as url:\n",
            "      data = json.loads(url.read().decode())\n",
            "  fname = data['assets'][0]['name']\n",
            "  requrl = data['assets'][0]['browser_download_url']\n",
            "  urllib.request.urlretrieve(requrl, fname)\n",
            "  # Unzip, identify octave folder name\n",
            "  !tar xf {fname}\n",
            "  top_folder = !tar tf {fname} | head -1\n",
            "  octave_folder = top_folder[0][:-1]\n",
            "  octave_path = os.path.join(root_path,octave_folder)\n",
            "  return octave_path\n",
            "\n",
            "# Set path to Octave exectuable\n",
            "octave_path = get_octave('/content')\n",
            "os.environ['OCTAVE_EXECUTABLE'] = octave_path + '/bin/octave-cli'\n",
            "os.environ['PATH'] = octave_path + '/bin:' + os.environ['PATH']"
          ],
          "metadata": {
            "id": "-eLtWtgZRonx"
          },
          "execution_count": 3,
          "outputs": []
        },
        {
          "cell_type": "markdown",
          "source": [
            "## Install Python-Octave bridge"
          ],
          "metadata": {
            "id": "B6QfdhCTVW2-"
          }
        },
        {
          "cell_type": "code",
          "source": [
            "%%capture\n",
            "! pip3 install octave_kernel\n",
            "! pip3 install oct2py==5.3.0\n",
            "\n",
            "%load_ext oct2py.ipython"
          ],
          "metadata": {
            "id": "eek7w41_VI8x"
          },
          "execution_count": 4,
          "outputs": []
        },
        {
          "cell_type": "markdown",
          "source": [
            "## Download CERRx"
          ],
          "metadata": {
            "id": "hCxab5j9Y3hv"
          }
        },
        {
          "cell_type": "code",
          "source": [
            "%%capture\n",
            "!git clone --single-branch --branch octave_dev https://www.github.com/cerr/CERR.git\n",
            "import os\n",
            "currDir = os.getcwd()\n",
            "os.chdir(\"/content/CERR\")\n",
            "#!git checkout 2847d7df4a889c2ebd9c93a9d25bf46fd2ee75be\n",
            "os.chdir(currDir)"
          ],
          "metadata": {
            "id": "1ldWZbWfY8U-"
          },
          "execution_count": 5,
          "outputs": []
        },
        {
          "cell_type": "code",
          "source": [
            "%cd /content/CERR\n",
            "!git pull\n",
            "!git status"
          ],
          "metadata": {
            "id": "zD1-z0CUVjDd",
            "outputId": "890b0947-3dcd-4640-879d-897738400015",
            "colab": {
              "base_uri": "https://localhost:8080/"
            }
          },
          "execution_count": 6,
          "outputs": []
        },
        {
          "cell_type": "markdown",
          "metadata": {
            "id": "G_N4Prl__MbP"
          },
          "source": [
            "## Download pretrained models"
          ]
        },
        {
          "cell_type": "code",
          "metadata": {
            "id": "RQAA6zsn8KqU"
          },
          "source": [
            "%%capture\n",
            "%%bash\n",
            "LOCATION=$(curl -s https://api.github.com/repos/aditiiyer/CT_SwallowingAndChewing_DeepLabV3/tags \\\n",
            "| grep \"name\"| grep \"linux\" \\\n",
            "| awk '{print \"https://github.com/aditiiyer/CT_SwallowingAndChewing_DeepLabV3/archive/\" substr($2, 2, length($2)-3) \".zip\"}') \\\n",
            "; curl -L -o swallowChewSeg.zip $LOCATION\n",
            "\n",
            "unzip swallowChewSeg.zip -d pretrained"
          ],
          "execution_count": 7,
          "outputs": []
        },
        {
          "cell_type": "markdown",
          "metadata": {
            "id": "6KC8NMZdE4A6"
          },
          "source": [
            "## Apply segmentation models to sample data"
          ]
        },
        {
          "cell_type": "code",
          "metadata": {
            "id": "uATelfGNDEkI"
          },
          "source": [
            "%%capture\n",
            "from oct2py import octave\n",
            "\n",
            "octave.eval('pkg load image')\n",
            "octave.eval('pkg load io')\n",
            "octave.eval('pkg load statistics')\n",
            "octave.addpath(octave.genpath('/content/CERR'))"
          ],
          "execution_count": 8,
          "outputs": []
    },
     {
          "cell_type": "code",
          "metadata": {
            "id": "pD9QPBhsE1eM"
          },
          "source": [
            "## Load sample data\n",
            "sampleData = '/content/CERR/Unit_Testing/data_for_cerr_tests/' + \\\n",
            "              'CERR_plans/head_neck_ex1_20may03.mat.bz2'\n",
            "\n",
            "%octave_push sampleData\n",
            "planC = octave.loadPlanC(sampleData, octave.tempdir())\n",
            "planC = octave.updatePlanFields(planC)\n",
            "planC = octave.quality_assure_planC(sampleData, planC)"
          ],
          "execution_count": 9,
          "outputs": []
        },
        {
          "cell_type": "code",
          "source": [
            "## Apply auto-segmentation models\n",
            "algorithm = 'CT_ChewingStructures_DeepLabV3^CT_Larynx_DeepLabV3^' + \\\n",
            "            'CT_PharyngealConstrictor_DeepLabV3';\n",
            "sessionPath = '/content/temp/'\n",
            "condaEnvName = '/content/pretrained/CT_SwallowingAndChewing_DeepLabV3-1.0-linux/'\n",
            "cmdFlag = 'condaEnv'\n",
            "newSessionFlag = 1\n",
            "\n",
            "planC = octave.runAIforPlanC(planC,sessionPath,algorithm,cmdFlag, \\\n",
            "    newSessionFlag,[],[],condaEnvName)"
          ],
          "metadata": {
            "id": "EL_uLxp2Q35M"
          },
          "execution_count": 10,
          "outputs": []
        },
        {
          "cell_type": "markdown",
          "source": [
            "## Get segmentation masks"
          ],
          "metadata": {
            "id": "HJy4HLmBZOjQ"
          }
        },
        {
          "cell_type": "code",
          "metadata": {
            "id": "BK0yAvbQQNBR"
          },
          "source": [
            "from oct2py import octave\n",
            "%octave_push planC"
          ],
          "execution_count": 11,
          "outputs": []
        },
        {
          "cell_type": "code",
          "metadata": {
            "id": "GVml6zI9QRgb",
            "outputId": "46348276-1931-4312-8916-31007de01c08",
            "colab": {
              "base_uri": "https://localhost:8080/",
              "height": 121
            }
          },
          "source": [
            "%%octave\n",
            "\n",
            "addpath(genpath('/content/CERR'))\n",
            "\n",
            "%Get scan array\n",
            "indexS = planC{end};\n",
            "scanNum = 1;\n",
            "ctOffset = planC{indexS.scan}(scanNum).scanInfo(1).CTOffset;\n",
            "scanArray = single(getScanArray(scanNum,planC)) - ctOffset;\n",
            "\n",
            "%Get structure labels & masks\n",
            "numStructs = length(planC{indexS.structures});\n",
            "structNameC = {planC{indexS.structures}.structureName};\n",
            "strNameC = {'Left_masseter', 'Right_masseter', 'Left_medial_pterygoid',...\n",
            "              'Right_medial_pterygoid', 'Larynx_DLabV3', 'Constrictor_muscle'};\n",
            "for strNum = 1:length(strNameC)\n",
            "    strx = strNameC{strNum};\n",
            "    idx = getMatchingIndex(strx,structNameC,'EXACT');\n",
            "    mask3M = getStrMask(idx, planC);\n",
            "    maskC{strNum} = mask3M;\n",
            "end"
          ],
          "execution_count": 12,
          "outputs": []
      },
      {
            "cell_type": "markdown",
            "source": [
              "## Display auto-segmentation results using Python/Matplotlib"
            ],
            "metadata": {
              "id": "qHcDwHTHZXDa"
            }
          },
          {
            "cell_type": "code",
            "metadata": {
              "id": "9_mlA0D8QYFf"
            },
            "source": [
              "%octave_pull maskC strNameC scanArray"
            ],
            "execution_count": 13,
            "outputs": []
          },
          {
            "cell_type": "code",
            "metadata": {
              "id": "Ajqv7egbQaLu"
            },
            "source": [
              "import matplotlib.pyplot as plt\n",
              "import numpy as np\n",
              "from IPython.display import clear_output\n",
              "import ipywidgets as widgets\n",
              "\n",
              "dx, dy = 1, 1\n",
              "\n",
              "x = np.arange(0, 255, dx)\n",
              "y = np.arange(0, 255, dy)\n",
              "extent = np.min(x), np.max(x), np.min(y), np.max(y)\n",
              "\n",
              "cmaps = [plt.cm.Oranges,plt.cm.Oranges,plt.cm.Blues,plt.cm.Blues, \\\n",
              "             plt.cm.Purples,plt.cm.Greens]\n",
              "\n",
              "clear_output(wait=True)\n",
              "\n",
              "def window_image(image, window_center, window_width):\n",
              "    img_min = window_center - window_width // 2\n",
              "    img_max = window_center + window_width // 2\n",
              "    window_image = image.copy()\n",
              "    window_image[window_image < img_min] = img_min\n",
              "    window_image[window_image > img_max] = img_max\n",
              "    \n",
              "    return window_image"
            ],
            "execution_count": 14,
            "outputs": []
          },
          {
            "cell_type": "markdown",
            "source": [
              "**Example: display center slice**\n"
            ],
            "metadata": {
              "id": "oC7m8vmLW2gO"
            }
          },
          {
            "cell_type": "code",
            "source": [
              "# Plot center slice\n",
              "scanSize = np.shape(scanArray)\n",
              "centerSlc = np.round(scanSize[2]/2).astype(int)\n",
              "\n",
              "window_center = 40\n",
              "window_width = 400\n",
              "fig, ax = plt.subplots(1,1,figsize=(10,10))\n",
              "\n",
              "windowed_img = window_image(scanArray[:,:,centerSlc],\n",
              "                                window_center,window_width)\n",
              "ax.imshow(windowed_img, cmap=plt.cm.gray, alpha=1,\n",
              "                    interpolation='nearest', extent=extent)\n",
              "ax.title.set_text('Auto-segmented structures on slice ' + str(centerSlc))\n",
              "fontdict = {'fontsize' : 100}\n",
              "\n",
              "for maskNum in range(0,6,1):\n",
              "        mask_cmap = cmaps[maskNum]\n",
              "        mask_cmap.set_under('k', alpha=0)\n",
              "        im2 = ax.imshow(maskC[0,maskNum][:,:,centerSlc-1], \n",
              "                        cmap=mask_cmap, alpha=.8, extent=extent,\n",
              "                        interpolation='none', clim=[0.5, 1])   "
            ],
            "metadata": {
              "id": "LlLbxi9DXAjT",
              "outputId": "8c45c511-7bd4-4971-9211-7e8d40b8119f",
              "colab": {
                "base_uri": "https://localhost:8080/",
                "height": 606
              }
            },
            "execution_count": 15,
            "outputs": [
              {
                "output_type": "display_data",
                "data": {
                  "text/plain": [
                    "<Figure size 720x720 with 1 Axes>"
                  ],
                  "image/png": "[encoded data removed]"
                },
                "metadata": {
                  "needs_background": "light"
                }
              }
            ]
           },
           {
	         "cell_type": "markdown",
	         "source": [
	           "**Interactive display**"
	         ],
	         "metadata": {
	           "id": "WAytdRNXZiMu"
	         }
	       },
	   {
	         "cell_type": "code",
	         "source": [
	           "def show_axial_slice(slcNum):\n",
	           "    clear_output(wait=True)\n",
	           "    print('Slice '+str(slcNum))\n",
	           "    if 'fig' in locals():\n",
	           "        fig.remove()\n",
	           "    fig, ax = plt.subplots(1,1,figsize=(10,10))\n",
	           "\n",
	           "    window_center = 45\n",
	           "    window_width = 125\n",
	           "    windowed_img = window_image(scanArray[:,:,slcNum-1],\n",
	           "                                window_center,window_width)\n",
	           "    im1 = ax.imshow(windowed_img, cmap=plt.cm.gray, alpha=1,\n",
	           "                    interpolation='nearest', extent=extent)\n",
	           "    \n",
	           "    cmaps = [plt.cm.Oranges,plt.cm.Oranges,plt.cm.Blues,plt.cm.Blues, \\\n",
	           "             plt.cm.Purples,plt.cm.Greens]\n",
	           "\n",
	           "    for maskNum in range(0,6,1):\n",
	           "        mask_cmap = cmaps[maskNum]\n",
	           "        mask_cmap.set_under('k', alpha=0)\n",
	           "        im2 = ax.imshow(maskC[0,maskNum][:,:,slcNum-1], \n",
	           "                        cmap=mask_cmap, alpha=.8, extent=extent,\n",
	           "                        interpolation='none', clim=[0.5, 1])        \n",
	           "    plt.show()\n",
	           "\n",
	           "slice_slider = widgets.IntSlider(value=30,min=1,max=79,step=1)\n",
	           "outputSlc = widgets.Output()\n",
	           "\n",
	           "display(slice_slider, outputSlc)\n",
	           "\n",
	           "\n",
	           "def update_slice(change):\n",
	           "    with outputSlc:\n",
	           "        show_axial_slice(change['new'])\n",
	           "\n",
	           "slice_slider.observe(update_slice, names='value')"
	         ],
	         "metadata": {
	           "id": "ktd8AwlUW_Ad",
	           "outputId": "bbd2cd12-ea17-4250-cd7c-f43f254920af",
	           "colab": {
	             "base_uri": "https://localhost:8080/",
	             "height": 641,
	             "referenced_widgets": [
	               "26c569b416c041eca3e94edcd1ffcaf9",
	               "2f006b5cc2b94a19a74e5e4288dec4b7",
	               "764ec96250694cb99393da0926bf47c3",
	               "3a10a253ddb3492aa609c5a40e475b94",
	               "0ced2b2f8906490ea9f252db7d40e530"
	             ]
	           }
	         },
	         "execution_count": 16,
	         "outputs": []
	     }
  ]
}
